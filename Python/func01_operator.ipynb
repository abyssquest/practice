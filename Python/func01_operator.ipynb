{
 "cells": [
  {
   "cell_type": "markdown",
   "metadata": {},
   "source": [
    "# 연산자"
   ]
  },
  {
   "cell_type": "markdown",
   "metadata": {},
   "source": [
    "## 정수 사칙연산"
   ]
  },
  {
   "cell_type": "code",
   "execution_count": null,
   "metadata": {},
   "outputs": [],
   "source": [
    "# 더하기\n",
    "# +\n",
    "\n",
    "# 빼기\n",
    "# -\n",
    "\n",
    "# 곱하기\n",
    "# *\n",
    "\n",
    "# 나누기\n",
    "# /\n",
    "\n",
    "# 나눗셈 몫\n",
    "# //\n",
    "\n",
    "# 나눗셈 나머지\n",
    "# %"
   ]
  },
  {
   "cell_type": "markdown",
   "metadata": {},
   "source": [
    "## 비트 연산자"
   ]
  },
  {
   "cell_type": "code",
   "execution_count": null,
   "metadata": {},
   "outputs": [],
   "source": [
    "# AND 연산자\n",
    "# &\n",
    "\n",
    "# OR 연산자\n",
    "# |\n",
    "\n",
    "# XOR 연산자\n",
    "# ^\n",
    "\n",
    "# NOT 연산자\n",
    "# ~"
   ]
  },
  {
   "cell_type": "markdown",
   "metadata": {},
   "source": [
    "## 비트 시프트 연산자"
   ]
  },
  {
   "cell_type": "code",
   "execution_count": null,
   "metadata": {},
   "outputs": [],
   "source": [
    "# 왼쪽 이동\n",
    "# <<\n",
    "\n",
    "# 오른쪽 이동\n",
    "# >>"
   ]
  }
 ],
 "metadata": {
  "language_info": {
   "name": "python"
  },
  "orig_nbformat": 4
 },
 "nbformat": 4,
 "nbformat_minor": 2
}
