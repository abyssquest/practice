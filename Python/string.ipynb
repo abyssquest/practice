{
 "cells": [
  {
   "cell_type": "markdown",
   "metadata": {},
   "source": [
    "# 문자열 관련 함수"
   ]
  },
  {
   "cell_type": "markdown",
   "metadata": {},
   "source": [
    "## 문자열 확인"
   ]
  },
  {
   "cell_type": "code",
   "execution_count": null,
   "metadata": {},
   "outputs": [],
   "source": [
    "\n",
    "# 특정 단어(문자열)의 수를 구함 : 없으면 0\n",
    "count()\n",
    "\n",
    "# 특정 단어 존재 확인\n",
    "startswith() # 시작하는지\n",
    "endswith() # 끝나는지\n",
    "\n",
    "# 특정 단어 찾아 인덱스 리턴 : 없으면 -1\n",
    "find() # 앞에서부터\n",
    "rfind() # 뒤에서부터\n",
    "\n",
    "# in, not in을 사용하면 특정단어 있는지 없는지 확인\n",
    "\n",
    "# find와 동일 but 단어가 없으면 예외 발생\n",
    "index(), rindex()"
   ]
  },
  {
   "cell_type": "markdown",
   "metadata": {},
   "source": [
    "## 문자열 변환"
   ]
  },
  {
   "cell_type": "code",
   "execution_count": null,
   "metadata": {},
   "outputs": [],
   "source": [
    "# 대소문자 변환\n",
    "upper() # 대문자로\n",
    "lower() # 소문자로\n",
    "swapcase() # 대문자 소문자 쌍방 변환\n",
    "capitlize() # 첫문자 대문자로\n",
    "title() # 각 단어 첫글자 대문자로\n",
    "\n",
    "# 문자열 자르기\n",
    "strip() # 양쪽 자르기\n",
    "lstrip() # 왼쪽 자르기\n",
    "rstrip() # 오른쪽 자르기\n",
    "\n",
    "# 대체\n",
    "replace() # 문자열 특정 부분 변경\n",
    "format() # 틀 만들어 문자열 생성\n",
    "join() # iterable 인자 전달하여 문자열로 연결"
   ]
  },
  {
   "cell_type": "code",
   "execution_count": null,
   "metadata": {},
   "outputs": [],
   "source": [
    "# 문자열 정렬\n",
    "center() # 가운데\n",
    "ljust()  # 왼  쪽\n",
    "rjust()  # 오른쪽\n",
    "\n",
    "# 문자열 분리\n",
    "partition()\n",
    "rpartition()\n",
    "split()\n",
    "rsplit()\n",
    "splitlines()"
   ]
  },
  {
   "cell_type": "code",
   "execution_count": null,
   "metadata": {},
   "outputs": [],
   "source": [
    "# 문자열 종류 판단\n",
    "isalpha()\n",
    "isalnum()\n",
    "isdecimal()\n",
    "isdigit()\n",
    "isidentifier()\n",
    "islower()\n",
    "isnumeric()\n",
    "isspace()\n",
    "istitle()\n",
    "isupper()"
   ]
  },
  {
   "cell_type": "code",
   "execution_count": null,
   "metadata": {},
   "outputs": [],
   "source": []
  }
 ],
 "metadata": {
  "interpreter": {
   "hash": "487580be9df01ca14bca7e436701e66329652a4b77ef9baffc506bf8b4b63246"
  },
  "kernelspec": {
   "display_name": "Python 3.9.7 64-bit ('base': conda)",
   "language": "python",
   "name": "python3"
  },
  "language_info": {
   "codemirror_mode": {
    "name": "ipython",
    "version": 3
   },
   "file_extension": ".py",
   "mimetype": "text/x-python",
   "name": "python",
   "nbconvert_exporter": "python",
   "pygments_lexer": "ipython3",
   "version": "3.9.7"
  },
  "orig_nbformat": 4
 },
 "nbformat": 4,
 "nbformat_minor": 2
}
